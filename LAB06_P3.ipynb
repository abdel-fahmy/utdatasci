import pandas as pd
import numpy as np
import seaborn as sns
import matplotlib

import matplotlib.pyplot as plt
from scipy.stats import skew
from scipy.stats.stats import pearsonr


%config InlineBackend.figure_format = 'retina' #set 'png' here when working on notebook
%matplotlib inline

# Upload the train file from your local drive
from google.colab import files
uploaded = files.upload()
uploaded = files.upload()
train = pd.read_csv("train.csv")
test = pd.read_csv("test.csv")
all_data = pd.concat((train.loc[:,'MSSubClass':'SaleCondition'],
                      test.loc[:,'MSSubClass':'SaleCondition']))
#log transform the target:
train["SalePrice"] = np.log1p(train["SalePrice"])

#log transform skewed numeric features:
numeric_feats = all_data.dtypes[all_data.dtypes != "object"].index

skewed_feats = train[numeric_feats].apply(lambda x: skew(x.dropna())) #compute skewness
skewed_feats = skewed_feats[skewed_feats > 0.75]
skewed_feats = skewed_feats.index

all_data[skewed_feats] = np.log1p(all_data[skewed_feats])
all_data = pd.get_dummies(all_data)

#filling NA's with the mean of the column:
all_data = all_data.fillna(all_data.mean())

#creating matrices for sklearn:
X_train = all_data[:train.shape[0]]
X_test = all_data[train.shape[0]:]
y = train.SalePrice

from sklearn.linear_model import Ridge, RidgeCV, ElasticNet, LassoCV, LassoLarsCV
from sklearn.model_selection import cross_val_score

def rmse_cv(model):
    rmse= np.sqrt(-cross_val_score(model, X_train, y, scoring="neg_mean_squared_error", cv = 5))
    return(rmse)

model_ridge = Ridge()

#The main tuning parameter for the Ridge model is alpha - a regularization parameter that measures how flexible our model is. 
#The higher the regularization the less prone our model will be to overfit. 
#However it will also lose flexibility and might not capture all of the signal in the data.


alphas = [0.05, 0.1, 0.3, 1, 3, 5, 10, 15, 30, 50, 75]
cv_ridge = [rmse_cv(Ridge(alpha = alpha)).mean() 
            for alpha in alphas]

cv_ridge = pd.Series(cv_ridge, index = alphas)
cv_ridge.plot(title = "Validation - Just Do It")
plt.xlabel("alpha")
plt.ylabel("rmse")
cv_ridge.min()

model_lasso = LassoCV(alphas = [1, 0.1, 0.001, 0.0005]).fit(X_train, y)
rmse_cv(model_lasso).mean()
coef = pd.Series(model_lasso.coef_, index = X_train.columns)
print("Lasso picked " + str(sum(coef != 0)) + " variables and eliminated the other " +  str(sum(coef == 0)) + " variables")

#Lets take a look on the most important co-efficients

imp_coef = pd.concat([coef.sort_values().head(10),
                     coef.sort_values().tail(10)])

rmse_cv(model_lasso).mean()

##ADDING AN XGBoost model

import xgboost as xgb

dtrain = xgb.DMatrix(X_train, label = y)
dtest = xgb.DMatrix(X_test)

params = {"max_depth":2, "eta":0.1}
model = xgb.cv(params, dtrain,  num_boost_round=500, early_stopping_rounds=100)
model_xgb = xgb.XGBRegressor(n_estimators=360, max_depth=2, learning_rate=0.1) #the params were tuned using xgb.cv
model_xgb.fit(X_train, y)

#Here are the model predictions 
xgb_preds = np.expm1(model_xgb.predict(X_train))

from sklearn.metrics import mean_squared_error
def rmse(y_true, y_pred):
    return np.sqrt(mean_squared_error(y_true, y_pred))

#y = np.array(y)
#print(xgb_preds)
print('The score using XGboost is :', rmse(y, xgb_preds))


def rmse_cv(model_xgb):
    rmse= np.sqrt(-cross_val_score(model_xgb, X_train, y, scoring="neg_mean_squared_error", cv = 5))
    return(rmse)


from sklearn import datasets
from xgboost import XGBRegressor
from sklearn.model_selection import cross_val_score
scores = cross_val_score(XGBRegressor(objective='reg:squarederror'), X_train, y, scoring='neg_mean_squared_error')
final = (-scores)**0.5

print(final.min())
print('As we can see the XGboost got a score of :{} which is \nlower than both ridge and lasso with scores of : {} and  :{} respectively.\n In addition, the hyperparameters were tuned using cross-validation' .format(final.min(), cv_ridge.min(),rmse_cv(model_lasso).mean()))

*italicized text*##PROBLEM 3 

## C) In this part I will try stacking both ridge, lasso and XGBoost together

from sklearn.model_selection import KFold
from sklearn import linear_model
from sklearn.metrics import mean_squared_error
import pandas as pd
X_train_mat = X_train.to_numpy()
kf = KFold(5)
n, d = X_train_mat.shape
X_stacked = np.concatenate([X_train_mat, np.zeros([n, 3])], axis=1)
ridge_mse = []
lasso_mse = []
xgb_mse = []
for split_idx, val_idx in kf.split(X_train_mat, y):
  X_split = X_train_mat[split_idx]
  y_split = y[split_idx]
  X_val = X_train_mat[val_idx]
  y_val = y[val_idx]
  
  ridge = Ridge(alpha=10)
  ridge.fit(X_split, y_split)
  ridge_pred = ridge.predict(X_val)
  X_stacked[val_idx, -3] = ridge_pred
  ridge_mse.append(mean_squared_error(y_val, ridge_pred))
  lasso = linear_model.Lasso(alpha=0.0005)
  #lasso = Lasso(alpha=0.0005)
  lasso.fit(X_split, y_split)
  lasso_pred = lasso.predict(X_val)
  lasso_mse.append(mean_squared_error(y_val, lasso_pred))
  X_stacked[val_idx, -2] = lasso_pred
  model_xgb.fit(X_split, y_split)

  #Here are the model predictions 
  xgb_preds = model_xgb.predict(X_val)
  xgb_mse.append(mean_squared_error(y_val, xgb_preds))
  X_stacked[val_idx, -3] = xgb_preds
print('Ridge MSE: {}'.format(np.mean(ridge_mse)))
print('Lasso MSE: {}'.format(np.mean(lasso_mse)))
print('XGBoost MSE: {}'.format(np.mean(xgb_mse)))
ridge = Ridge(alpha=1.0)
stack_mse= -cross_val_score(ridge, X_stacked, y, scoring="neg_mean_squared_error", cv = 5)
print('Stacked MSE: {}'.format(np.mean(stack_mse)))


